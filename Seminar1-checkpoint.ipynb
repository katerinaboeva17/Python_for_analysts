{
 "cells": [
  {
   "cell_type": "markdown",
   "id": "35625e0e",
   "metadata": {},
   "source": [
    "# Семинар Python для аналитиков"
   ]
  },
  {
   "cell_type": "markdown",
   "id": "4b510d5a",
   "metadata": {},
   "source": [
    "## Задание 1"
   ]
  },
  {
   "cell_type": "markdown",
   "id": "218dfb3f",
   "metadata": {},
   "source": [
    "### 1.1 Соедините два словаря в один"
   ]
  },
  {
   "cell_type": "markdown",
   "id": "15d8850e",
   "metadata": {},
   "source": [
    "### 1.2 Напишите функцию, которая на вход принимает два словаря и возвращает один объединенный словарь. Используйте аннотирование типов"
   ]
  },
  {
   "cell_type": "code",
   "execution_count": 3,
   "id": "b4dc0006",
   "metadata": {},
   "outputs": [],
   "source": [
    "dict1 = {'One': 1, 'Two': 2, 'Three': 3}\n",
    "dict2 = {'Four': 4, 'Five': 5, 'Six': 6}"
   ]
  },
  {
   "cell_type": "code",
   "execution_count": 4,
   "id": "07541dad",
   "metadata": {},
   "outputs": [],
   "source": [
    "dict1.update(dict2)"
   ]
  },
  {
   "cell_type": "code",
   "execution_count": 5,
   "id": "1026c26a",
   "metadata": {},
   "outputs": [
    {
     "data": {
      "text/plain": [
       "{'One': 1, 'Two': 2, 'Three': 3, 'Four': 4, 'Five': 5, 'Six': 6}"
      ]
     },
     "execution_count": 5,
     "metadata": {},
     "output_type": "execute_result"
    }
   ],
   "source": [
    "dict1"
   ]
  },
  {
   "cell_type": "code",
   "execution_count": 6,
   "id": "60bd14db",
   "metadata": {},
   "outputs": [],
   "source": [
    "def my_dict(dict1:dict, dict2: dict) -> dict:\n",
    "    dict1.update(dict2)\n",
    "    return dict1\n"
   ]
  },
  {
   "cell_type": "code",
   "execution_count": 7,
   "id": "a9bd5bf6",
   "metadata": {},
   "outputs": [
    {
     "data": {
      "text/plain": [
       "{'One': 1, 'Two': 2, 'Three': 3, 'Four': 4, 'Five': 5, 'Six': 6}"
      ]
     },
     "execution_count": 7,
     "metadata": {},
     "output_type": "execute_result"
    }
   ],
   "source": [
    "my_dict(dict1, dict2)"
   ]
  },
  {
   "cell_type": "markdown",
   "id": "8a2fd47e",
   "metadata": {},
   "source": [
    "## Задание 2"
   ]
  },
  {
   "cell_type": "markdown",
   "id": "16a8a268",
   "metadata": {},
   "source": [
    "Напишите функцию, которая из двух списков делает один словарь, где элементы из первого списка - ключи, а элементы из второго списка - значения."
   ]
  },
  {
   "cell_type": "markdown",
   "id": "3d79fe10",
   "metadata": {},
   "source": [
    "### 2.1 Используя цикл for\n",
    "### 2.2 Используя dict comprehention"
   ]
  },
  {
   "cell_type": "code",
   "execution_count": 8,
   "id": "8ef3fba0",
   "metadata": {},
   "outputs": [
    {
     "data": {
      "text/plain": [
       "{'One': 1, 'Two': 2, 'Three': 3}"
      ]
     },
     "execution_count": 8,
     "metadata": {},
     "output_type": "execute_result"
    }
   ],
   "source": [
    "keys = ['One', 'Two', 'Three']\n",
    "values = [1, 2, 3]\n",
    "def made_dict(keys: list, values: list) -> dict:\n",
    "    len_dict = len(keys)\n",
    "    my_dict = {}\n",
    "    for i in range(len_dict):\n",
    "        my_dict.update({keys[i]:values[i]})\n",
    "    return my_dict\n",
    "made_dict(keys, values)"
   ]
  },
  {
   "cell_type": "code",
   "execution_count": 9,
   "id": "2c8827a1",
   "metadata": {},
   "outputs": [
    {
     "data": {
      "text/plain": [
       "{'One': 1, 'Two': 2, 'Three': 3}"
      ]
     },
     "execution_count": 9,
     "metadata": {},
     "output_type": "execute_result"
    }
   ],
   "source": [
    "dict(zip(keys, values))"
   ]
  },
  {
   "cell_type": "markdown",
   "id": "5f5f96c9",
   "metadata": {},
   "source": [
    "## Задание 3"
   ]
  },
  {
   "cell_type": "markdown",
   "id": "d2b389f1",
   "metadata": {},
   "source": [
    "Извлеките только два ключа name и age из представленного словаря"
   ]
  },
  {
   "cell_type": "markdown",
   "id": "cc626cd7",
   "metadata": {},
   "source": [
    "### 3.1 Напишите функцию с циклом for\n",
    "Функция на вход принимает:\n",
    "исходный словарь\n",
    "ключи, которые нужно извлечь (аргумент по умолчанию)\n",
    "На выходе словарь с нужными ключами\n",
    "Используйте аннотирование типов\n"
   ]
  },
  {
   "cell_type": "markdown",
   "id": "6f895418",
   "metadata": {},
   "source": [
    "### 3.2 Используя dict comprehensions"
   ]
  },
  {
   "cell_type": "code",
   "execution_count": 20,
   "id": "f19e3107",
   "metadata": {},
   "outputs": [
    {
     "data": {
      "text/plain": [
       "{'name': 'John', 'age': 25}"
      ]
     },
     "execution_count": 20,
     "metadata": {},
     "output_type": "execute_result"
    }
   ],
   "source": [
    "client_dict = {\"name\": \"John\",\n",
    "              \"age\": 25,\n",
    "              \"salary\": 5000,\n",
    "              \"city\": 'Moscow'}\n",
    "keys = ['name', 'age']\n",
    "def get_keys(dict1, keys):\n",
    "    res = {}\n",
    "    for i in keys:\n",
    "        res.update({i: dict1[i]})\n",
    "    return res\n",
    "get_keys(client_dict, keys)"
   ]
  },
  {
   "cell_type": "code",
   "execution_count": 21,
   "id": "2bfecc3d",
   "metadata": {},
   "outputs": [
    {
     "data": {
      "text/plain": [
       "{'name': 'John', 'age': 25}"
      ]
     },
     "execution_count": 21,
     "metadata": {},
     "output_type": "execute_result"
    }
   ],
   "source": [
    "client_dict = {\"name\": \"John\",\n",
    "              \"age\": 25,\n",
    "              \"salary\": 5000,\n",
    "              \"city\": 'Moscow'}\n",
    "keys = ['name', 'age']\n",
    "my_dict = {key: client_dict[key] for key in keys}\n",
    "my_dict"
   ]
  },
  {
   "cell_type": "markdown",
   "id": "9d23f741",
   "metadata": {},
   "source": [
    "<img src=https://kartinkin.net/pics/uploads/posts/2022-09/1662757754_5-kartinkin-net-p-domashnie-kotiki-vkontakte-5.jpg>"
   ]
  },
  {
   "cell_type": "markdown",
   "id": "b3652342",
   "metadata": {},
   "source": [
    "<table>\n",
    "    <tr>\n",
    "        <td> </td>\n",
    "        <td>ДО СОБЫТИЯ</td>\n",
    "        <td>ВО ВРЕМЯ СОБЫТИЯ </td>\n",
    "    </tr>\n",
    "    <tr>\n",
    "        <td>1 КОНТРОЛЬНАЯ ТОЧКА</td>\n",
    "        <td>250</td>\n",
    "        <td>500</td>\n",
    "    </tr>\n",
    "    <tr>\n",
    "        <td>2 КОНТРОЛЬНАЯ ТОЧКА</td>\n",
    "        <td>350</td>\n",
    "        <td>700</td>\n",
    "    </tr>\n",
    "    <tr>\n",
    "        <td>3 КОНТРОЛЬНАЯ ТОЧКА</td>\n",
    "        <td>400</td>\n",
    "        <td>800</td>\n",
    "    </tr>\n",
    "</table>\n",
    "        "
   ]
  },
  {
   "cell_type": "markdown",
   "id": "6e5d6b13",
   "metadata": {},
   "source": [
    "## Задание 6\n",
    "Напишите функцию, которая может принимать любое количество трат пользователя и считать сумму и среднее. На вход поступают целочисленные значения в любом количестве. На выходе словарь с ключами суммы трат и средней траты\n"
   ]
  },
  {
   "cell_type": "code",
   "execution_count": 24,
   "id": "75f82835",
   "metadata": {},
   "outputs": [],
   "source": [
    "def agg(*args):\n",
    "    return {\n",
    "        'sum': sum(args),\n",
    "        'avg': sum(args)/len(args)\n",
    "    }"
   ]
  },
  {
   "cell_type": "code",
   "execution_count": 25,
   "id": "c3fd6818",
   "metadata": {},
   "outputs": [
    {
     "data": {
      "text/plain": [
       "{'sum': 12, 'avg': 4.0}"
      ]
     },
     "execution_count": 25,
     "metadata": {},
     "output_type": "execute_result"
    }
   ],
   "source": [
    "agg(5,4,3)"
   ]
  },
  {
   "cell_type": "markdown",
   "id": "a0000551",
   "metadata": {},
   "source": [
    "## Задание 4"
   ]
  },
  {
   "cell_type": "markdown",
   "id": "1ebf69aa",
   "metadata": {},
   "source": [
    "### 4.1 Сгенерируйте случайные целые числа от 0 до 100 в количестве 5 штук с помощью модуля random\n",
    "Зафиксируйте псевдогенерацию, чтобы сгенерированные значения всегда были одинаковые\n",
    "Используйте list comprehensions"
   ]
  },
  {
   "cell_type": "code",
   "execution_count": 43,
   "id": "37bd7e23",
   "metadata": {},
   "outputs": [
    {
     "data": {
      "text/plain": [
       "[70, 40, 16, 71, 91]"
      ]
     },
     "execution_count": 43,
     "metadata": {},
     "output_type": "execute_result"
    }
   ],
   "source": [
    "import random\n",
    "random.seed(48)\n",
    "data = [random.randint(0, 100) for i in range(5)]\n",
    "data"
   ]
  },
  {
   "cell_type": "markdown",
   "id": "7b994bb5",
   "metadata": {},
   "source": [
    "### 4.2 Напишите генератор\n",
    "Генератор на вход принимает список с данными о клиенте (данные из пункта 4.1)\n",
    "Внутри генератора реализуйте обход по списку с данными\n",
    "На каждой итерации генератор будет возвращать кортеж из двух элементов:\n",
    "данные по клиенту (в зависимости от итерации, на 0 итерации вернется 0 элемент, на 1 итерации вернется 1 элемент и тд)\n",
    "целочисленное значение, которое показывает, сколько секунд прошло с предыдущей итерации\n",
    "Примечание: секунды, которые возвращаются должны показывать время не с начала запуска генератора, а именно то время, которое прошло с предыдущей итерации. А значит время на первой итерации должно равняться 0.\n",
    "Используйте функцию time из модуля time для подсчета времени.\n",
    "Чтобы проверить работу таймера, запустите проход по генератору в цикле с time.sleep(2)\n"
   ]
  },
  {
   "cell_type": "code",
   "execution_count": 46,
   "id": "f9eb16fd",
   "metadata": {},
   "outputs": [],
   "source": [
    "import time\n",
    "def elapsed_since(data):\n",
    "    last_time = None\n",
    "    for item in data:\n",
    "        current_time = time.time()\n",
    "        if last_time:\n",
    "            delta = current_time - last_time\n",
    "        else:\n",
    "            delta = current_time - current_time\n",
    "            \n",
    "        last_time = time.time()\n",
    "        yield(int(delta), item)\n",
    "            "
   ]
  },
  {
   "cell_type": "code",
   "execution_count": 47,
   "id": "7858ef89",
   "metadata": {},
   "outputs": [
    {
     "name": "stdout",
     "output_type": "stream",
     "text": [
      "(0, 70)\n",
      "(2, 40)\n",
      "(2, 16)\n",
      "(2, 71)\n",
      "(2, 91)\n"
     ]
    }
   ],
   "source": [
    "for t in elapsed_since(data):\n",
    "    print(t)\n",
    "    time.sleep(2)"
   ]
  },
  {
   "cell_type": "markdown",
   "id": "62bed700",
   "metadata": {},
   "source": [
    "# Home work"
   ]
  },
  {
   "cell_type": "markdown",
   "id": "2f4a76b1",
   "metadata": {},
   "source": [
    "## Задача 1\n",
    "На складе лежат разные фрукты в разном количестве.\n",
    "Нужно написать функцию, которая на вход принимает любое количество названий фруктов и их количество, а возвращает общее количество фруктов на складе."
   ]
  },
  {
   "cell_type": "code",
   "execution_count": 50,
   "id": "cebac1e9",
   "metadata": {},
   "outputs": [],
   "source": [
    "def total_fruits(**fruits):\n",
    "    total = 0\n",
    "    for count in fruits.values():\n",
    "        total = total + count\n",
    "    return total"
   ]
  },
  {
   "cell_type": "code",
   "execution_count": 51,
   "id": "a84f009a",
   "metadata": {},
   "outputs": [
    {
     "data": {
      "text/plain": [
       "22"
      ]
     },
     "execution_count": 51,
     "metadata": {},
     "output_type": "execute_result"
    }
   ],
   "source": [
    "total_fruits(apple=7, orange=8, lemon=7)"
   ]
  },
  {
   "cell_type": "markdown",
   "id": "25cb4f83",
   "metadata": {},
   "source": [
    "## Задача 2\n",
    "Дан список с затратами на рекламу. Но в данных есть ошибки, некоторые затраты имеют отрицательную величину. Удалите такие значения из списка и посчитайте суммарные затраты\n",
    "[100, 125, -90, 345, 655, -1, 0, 200]\n",
    "Используйте list comprehensions."
   ]
  },
  {
   "cell_type": "code",
   "execution_count": 52,
   "id": "58467da9",
   "metadata": {},
   "outputs": [
    {
     "data": {
      "text/plain": [
       "1425"
      ]
     },
     "execution_count": 52,
     "metadata": {},
     "output_type": "execute_result"
    }
   ],
   "source": [
    "list = [100, 125, -90, 345, 655, -1, 0, 200]\n",
    "sum([i for i in list if i>0])"
   ]
  },
  {
   "cell_type": "markdown",
   "id": "35db1830",
   "metadata": {},
   "source": [
    "## Задача 3\n",
    "Даны два списка.\n",
    "Дата покупки\n",
    "['2021-09-14', '2021-12-15', '2021-09-08', '2021-12-05', '2021-10-09', '2021-09-30', '2021-12-22', '2021-11-29', '2021-12-24', '2021-11-26', '2021-10-27', '2021-12-18', '2021-11-09', '2021-11-23', '2021-09-27', '2021-10-02', '2021-12-27', '2021-09-20', '2021-12-13', '2021-11-01', '2021-11-09', '2021-12-06', '2021-12-08', '2021-10-09', '2021-10-31', '2021-09-30', '2021-11-09', '2021-12-13', '2021-10-26', '2021-12-09'] <br>\n",
    "Суммы покупок по датам\n",
    "[1270, 8413, 9028, 3703, 5739, 4095, 295, 4944, 5723, 3701, 4471, 651, 7037, 4274, 6275, 4988, 6930, 2971, 6592, 2004, 2822, 519, 3406, 2732, 5015, 2008, 316, 6333, 5700, 2887]"
   ]
  },
  {
   "cell_type": "markdown",
   "id": "401ada89",
   "metadata": {},
   "source": [
    "### 4.1 Найдите, какая выручка у компании в ноябре\n",
    "Используйте list comprehensions."
   ]
  },
  {
   "cell_type": "code",
   "execution_count": 61,
   "id": "ee177490",
   "metadata": {},
   "outputs": [
    {
     "data": {
      "text/plain": [
       "25098"
      ]
     },
     "execution_count": 61,
     "metadata": {},
     "output_type": "execute_result"
    }
   ],
   "source": [
    "dates = ['2021-09-14', '2021-12-15', '2021-09-08', '2021-12-05', '2021-10-09', '2021-09-30', '2021-12-22', '2021-11-29', '2021-12-24', '2021-11-26', '2021-10-27', '2021-12-18', '2021-11-09', '2021-11-23', '2021-09-27', '2021-10-02', '2021-12-27', '2021-09-20', '2021-12-13', '2021-11-01', '2021-11-09', '2021-12-06', '2021-12-08', '2021-10-09', '2021-10-31', '2021-09-30', '2021-11-09', '2021-12-13', '2021-10-26', '2021-12-09']\n",
    "revenue =  [1270, 8413, 9028, 3703, 5739, 4095, 295, 4944, 5723, 3701, 4471, 651, 7037, 4274, 6275, 4988, 6930, 2971, 6592, 2004, 2822, 519, 3406, 2732, 5015, 2008, 316, 6333, 5700, 2887]\n",
    "sum([revenue[i] for i in range(len(dates)) if dates[i].split('-')[1]=='11'])"
   ]
  },
  {
   "cell_type": "markdown",
   "id": "0270cf0a",
   "metadata": {},
   "source": [
    "### 4.2 Найдите выручку компании в зависимости от месяца\n",
    "Для этого напишите функцию, которая на вход принимает список с датами и список с выручкой, а на выходе словарь, где ключи - это месяцы, а значения - это выручка.\n",
    "Используйте аннотирование типов."
   ]
  },
  {
   "cell_type": "code",
   "execution_count": 64,
   "id": "314ea632",
   "metadata": {},
   "outputs": [
    {
     "data": {
      "text/plain": [
       "{'09': 25647, '12': 45452, '10': 28645, '11': 25098}"
      ]
     },
     "execution_count": 64,
     "metadata": {},
     "output_type": "execute_result"
    }
   ],
   "source": [
    "def calc_revenue(dates: list, revenue: list) -> dict:\n",
    "    income_by_month = {}\n",
    "    for i in range(len(dates)):\n",
    "        month = dates[i].split('-')[1]\n",
    "        if month in income_by_month.keys():\n",
    "            income_by_month[month] += revenue[i]\n",
    "        else:\n",
    "            income_by_month[month] = revenue[i]\n",
    "    return income_by_month\n",
    "calc_revenue(dates, revenue)\n"
   ]
  },
  {
   "cell_type": "code",
   "execution_count": null,
   "id": "e51fd669",
   "metadata": {},
   "outputs": [],
   "source": []
  },
  {
   "cell_type": "code",
   "execution_count": null,
   "id": "c10484cb",
   "metadata": {},
   "outputs": [],
   "source": []
  }
 ],
 "metadata": {
  "kernelspec": {
   "display_name": "Python 3 (ipykernel)",
   "language": "python",
   "name": "python3"
  },
  "language_info": {
   "codemirror_mode": {
    "name": "ipython",
    "version": 3
   },
   "file_extension": ".py",
   "mimetype": "text/x-python",
   "name": "python",
   "nbconvert_exporter": "python",
   "pygments_lexer": "ipython3",
   "version": "3.9.13"
  }
 },
 "nbformat": 4,
 "nbformat_minor": 5
}
